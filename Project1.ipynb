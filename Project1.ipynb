{
 "cells": [
  {
   "cell_type": "code",
   "execution_count": 1,
   "id": "d9fca173",
   "metadata": {},
   "outputs": [],
   "source": [
    "import pandas as pd\n",
    "import numpy as np\n",
    "import re\n",
    "import matplotlib.pyplot as plt\n",
    "import seaborn as sns"
   ]
  },
  {
   "cell_type": "code",
   "execution_count": 2,
   "id": "d701323f",
   "metadata": {},
   "outputs": [],
   "source": [
    "class color:\n",
    "   PURPLE = '\\033[95m'\n",
    "   CYAN = '\\033[96m'\n",
    "   DARKCYAN = '\\033[36m'\n",
    "   BLUE = '\\033[94m'\n",
    "   GREEN = '\\033[92m'\n",
    "   YELLOW = '\\033[93m'\n",
    "   RED = '\\033[91m'\n",
    "   BOLD = '\\033[1m'\n",
    "   UNDERLINE = '\\033[4m'\n",
    "   END = '\\033[0m'"
   ]
  },
  {
   "cell_type": "markdown",
   "id": "4b886e88",
   "metadata": {},
   "source": [
    "<H4>Import Data"
   ]
  },
  {
   "cell_type": "code",
   "execution_count": 3,
   "id": "26cf39ca",
   "metadata": {},
   "outputs": [],
   "source": [
    "data=pd.read_excel('data_cleaning.xlsx', sheet_name=1, header=0)\n",
    "df=data.copy()"
   ]
  },
  {
   "cell_type": "code",
   "execution_count": 4,
   "id": "d1255f46",
   "metadata": {},
   "outputs": [],
   "source": [
    "month=['January', 'February', 'March', 'April', 'May', 'June', 'July', 'August', 'September', 'October', 'November', 'December']\n",
    "price_monthly=[0.20, 0.19, 0.17, 0.18, 0.22, 0.27, 0.24, 0.19, 0.18, 0.15, 0.14, 0.19]"
   ]
  },
  {
   "cell_type": "code",
   "execution_count": 5,
   "id": "3dd24064",
   "metadata": {},
   "outputs": [],
   "source": [
    "hour=['11PM until 12AM', '12AM until 1AM', '1AM until 2AM', '2AM until 3AM', \n",
    "      '3AM until 4AM', '4AM until 5AM', '5AM until 6AM','6AM until 7AM', \n",
    "      '7AM until 8AM', '8AM until 9AM', '9AM until 10AM', '10AM until 11AM', \n",
    "      '11AM until 12PM', '12PM until 1PM', '1PM until 2PM', '2PM until 3PM', \n",
    "      '3PM until 4PM', '4PM until 5PM', '5PM until 6PM', '6PM until 7PM', \n",
    "      '7PM until 8PM', '8PM until 9PM', '9PM until 10PM', '10PM until 11PM']\n",
    "price_hourly=[0.10, 0.10, 0.10, 0.10, 0.10, 0.15, 0.20, 0.24, 0.24, 0.26, 0.20, 0.20,\n",
    "       0.26, 0.26, 0.20, 0.24, 0.18, 0.15, 0.30, 0.24, 0.24, 0.12, 0.11, 0.10]"
   ]
  },
  {
   "cell_type": "markdown",
   "id": "7d5e3328",
   "metadata": {},
   "source": [
    "<H4>Push header to first row"
   ]
  },
  {
   "cell_type": "code",
   "execution_count": 6,
   "id": "315dea42",
   "metadata": {},
   "outputs": [],
   "source": [
    "df.loc[-1] = df.columns.values\n",
    "df.sort_index(inplace=True)\n",
    "df.reset_index(drop=True, inplace=True)\n",
    "df.rename(columns=\n",
    "    {str(df.columns[0]): \"z\"}, \n",
    "    inplace=True)"
   ]
  },
  {
   "cell_type": "markdown",
   "id": "b0b585ce",
   "metadata": {},
   "source": [
    "<H4>Data cleaning using Regex and input info to the lists. I will create DataFrame using these lists"
   ]
  },
  {
   "cell_type": "code",
   "execution_count": 7,
   "id": "a2e71e38",
   "metadata": {},
   "outputs": [],
   "source": [
    "Time, AM_PM, Weekday, Month, Date, Usage, Unit, time=[], [], [], [], [], [], [], []\n",
    "for i in range(len(df)): \n",
    "    regex=list(re.findall('_*(\\d*)\\s*(.M)\\s*([A-z]*)\\s*(\\d*)\\w*-(\\w*)-(\\d*)_*(\\d*.\\d*)\\s*(\\w*)',str(df.loc[i,'z'].strip()))[0])\n",
    "    Time.append(regex[0]+\" \"+regex[1])\n",
    "    time.append(regex[0])\n",
    "    AM_PM.append(regex[1])\n",
    "    Weekday.append(regex[2])\n",
    "    Month.append(regex[4])\n",
    "    Date.append(regex[3]+'-'+regex[4]+'-'+regex[5])\n",
    "    Usage.append(regex[6])\n",
    "    Unit.append(regex[7])"
   ]
  },
  {
   "cell_type": "code",
   "execution_count": 8,
   "id": "23125daa",
   "metadata": {},
   "outputs": [],
   "source": [
    "df=pd.DataFrame({'Time':Time,\n",
    "   'Weekday':Weekday,\n",
    "   'Month':Month,\n",
    "   'Date':Date,\n",
    "   'Usage':Usage,\n",
    "   'Unit':Unit,})"
   ]
  },
  {
   "cell_type": "markdown",
   "id": "684dbb21",
   "metadata": {},
   "source": [
    "<H4>Change column type"
   ]
  },
  {
   "cell_type": "code",
   "execution_count": 9,
   "id": "489412d4",
   "metadata": {},
   "outputs": [],
   "source": [
    "df[\"Usage\"] = pd.to_numeric(df[\"Usage\"])\n",
    "df[\"Date\"] = pd.to_datetime(df[\"Date\"], format='%d-%b-%Y')"
   ]
  },
  {
   "cell_type": "markdown",
   "id": "2b3b9337",
   "metadata": {},
   "source": [
    "<H4>I have imported date from datetime. Aim is to get Weekdays from \"Date\" column"
   ]
  },
  {
   "cell_type": "code",
   "execution_count": 10,
   "id": "95dcfbce",
   "metadata": {},
   "outputs": [],
   "source": [
    "from datetime import date\n",
    "w = ['Monday', 'Tuesday', 'Wednesday', 'Thursday', 'Friday', 'Saturday', 'Sunday']\n",
    "Weekday = []\n",
    "for i in df['Date']:\n",
    "    Weekday.append(w[i.weekday()])\n",
    "df['Weekday'] = Weekday"
   ]
  },
  {
   "cell_type": "code",
   "execution_count": 11,
   "id": "6a002f0f",
   "metadata": {},
   "outputs": [
    {
     "data": {
      "text/html": [
       "<div>\n",
       "<style scoped>\n",
       "    .dataframe tbody tr th:only-of-type {\n",
       "        vertical-align: middle;\n",
       "    }\n",
       "\n",
       "    .dataframe tbody tr th {\n",
       "        vertical-align: top;\n",
       "    }\n",
       "\n",
       "    .dataframe thead th {\n",
       "        text-align: right;\n",
       "    }\n",
       "</style>\n",
       "<table border=\"1\" class=\"dataframe\">\n",
       "  <thead>\n",
       "    <tr style=\"text-align: right;\">\n",
       "      <th></th>\n",
       "      <th>Time</th>\n",
       "      <th>Weekday</th>\n",
       "      <th>Month</th>\n",
       "      <th>Date</th>\n",
       "      <th>Usage</th>\n",
       "      <th>Unit</th>\n",
       "    </tr>\n",
       "  </thead>\n",
       "  <tbody>\n",
       "    <tr>\n",
       "      <th>0</th>\n",
       "      <td>3 PM</td>\n",
       "      <td>Monday</td>\n",
       "      <td>Mar</td>\n",
       "      <td>2014-03-24</td>\n",
       "      <td>0.384</td>\n",
       "      <td>kwh</td>\n",
       "    </tr>\n",
       "    <tr>\n",
       "      <th>1</th>\n",
       "      <td>5 AM</td>\n",
       "      <td>Friday</td>\n",
       "      <td>Aug</td>\n",
       "      <td>2014-08-15</td>\n",
       "      <td>1.201</td>\n",
       "      <td>kwh</td>\n",
       "    </tr>\n",
       "    <tr>\n",
       "      <th>2</th>\n",
       "      <td>8 PM</td>\n",
       "      <td>Thursday</td>\n",
       "      <td>Mar</td>\n",
       "      <td>2014-03-20</td>\n",
       "      <td>1.523</td>\n",
       "      <td>kwh</td>\n",
       "    </tr>\n",
       "    <tr>\n",
       "      <th>3</th>\n",
       "      <td>6 PM</td>\n",
       "      <td>Wednesday</td>\n",
       "      <td>Apr</td>\n",
       "      <td>2014-04-23</td>\n",
       "      <td>0.424</td>\n",
       "      <td>kwh</td>\n",
       "    </tr>\n",
       "    <tr>\n",
       "      <th>4</th>\n",
       "      <td>1 AM</td>\n",
       "      <td>Friday</td>\n",
       "      <td>Dec</td>\n",
       "      <td>2014-12-19</td>\n",
       "      <td>0.209</td>\n",
       "      <td>kwh</td>\n",
       "    </tr>\n",
       "    <tr>\n",
       "      <th>...</th>\n",
       "      <td>...</td>\n",
       "      <td>...</td>\n",
       "      <td>...</td>\n",
       "      <td>...</td>\n",
       "      <td>...</td>\n",
       "      <td>...</td>\n",
       "    </tr>\n",
       "    <tr>\n",
       "      <th>8755</th>\n",
       "      <td>1 AM</td>\n",
       "      <td>Friday</td>\n",
       "      <td>Nov</td>\n",
       "      <td>2014-11-07</td>\n",
       "      <td>0.084</td>\n",
       "      <td>kwh</td>\n",
       "    </tr>\n",
       "    <tr>\n",
       "      <th>8756</th>\n",
       "      <td>6 AM</td>\n",
       "      <td>Tuesday</td>\n",
       "      <td>May</td>\n",
       "      <td>2014-05-20</td>\n",
       "      <td>1.027</td>\n",
       "      <td>kwh</td>\n",
       "    </tr>\n",
       "    <tr>\n",
       "      <th>8757</th>\n",
       "      <td>2 AM</td>\n",
       "      <td>Tuesday</td>\n",
       "      <td>Apr</td>\n",
       "      <td>2014-04-08</td>\n",
       "      <td>0.052</td>\n",
       "      <td>kwh</td>\n",
       "    </tr>\n",
       "    <tr>\n",
       "      <th>8758</th>\n",
       "      <td>9 PM</td>\n",
       "      <td>Monday</td>\n",
       "      <td>Jan</td>\n",
       "      <td>2014-01-27</td>\n",
       "      <td>1.428</td>\n",
       "      <td>kwh</td>\n",
       "    </tr>\n",
       "    <tr>\n",
       "      <th>8759</th>\n",
       "      <td>12 PM</td>\n",
       "      <td>Monday</td>\n",
       "      <td>Aug</td>\n",
       "      <td>2014-08-25</td>\n",
       "      <td>0.528</td>\n",
       "      <td>kwh</td>\n",
       "    </tr>\n",
       "  </tbody>\n",
       "</table>\n",
       "<p>8760 rows × 6 columns</p>\n",
       "</div>"
      ],
      "text/plain": [
       "       Time    Weekday Month       Date  Usage Unit\n",
       "0      3 PM     Monday   Mar 2014-03-24  0.384  kwh\n",
       "1      5 AM     Friday   Aug 2014-08-15  1.201  kwh\n",
       "2      8 PM   Thursday   Mar 2014-03-20  1.523  kwh\n",
       "3      6 PM  Wednesday   Apr 2014-04-23  0.424  kwh\n",
       "4      1 AM     Friday   Dec 2014-12-19  0.209  kwh\n",
       "...     ...        ...   ...        ...    ...  ...\n",
       "8755   1 AM     Friday   Nov 2014-11-07  0.084  kwh\n",
       "8756   6 AM    Tuesday   May 2014-05-20  1.027  kwh\n",
       "8757   2 AM    Tuesday   Apr 2014-04-08  0.052  kwh\n",
       "8758   9 PM     Monday   Jan 2014-01-27  1.428  kwh\n",
       "8759  12 PM     Monday   Aug 2014-08-25  0.528  kwh\n",
       "\n",
       "[8760 rows x 6 columns]"
      ]
     },
     "execution_count": 11,
     "metadata": {},
     "output_type": "execute_result"
    }
   ],
   "source": [
    "df"
   ]
  },
  {
   "cell_type": "markdown",
   "id": "fc1346c9",
   "metadata": {},
   "source": [
    "<H4>Just visualize graph to get insight"
   ]
  },
  {
   "cell_type": "code",
   "execution_count": 12,
   "id": "927425e3",
   "metadata": {},
   "outputs": [
    {
     "data": {
      "text/plain": [
       "Text(0.5, 1.0, 'Monthly Average Usage')"
      ]
     },
     "execution_count": 12,
     "metadata": {},
     "output_type": "execute_result"
    },
    {
     "data": {
      "image/png": "[encoded data removed]",
      "text/plain": [
       "<Figure size 1500x600 with 1 Axes>"
      ]
     },
     "metadata": {},
     "output_type": "display_data"
    }
   ],
   "source": [
    "df_mean = df.groupby(pd.PeriodIndex(df['Date'], freq=\"M\")).mean().reset_index()\n",
    "df_mean['Date'] = month\n",
    "plt.figure(figsize = (15,6))\n",
    "sns.barplot(x = 'Date',y = 'Usage',data = df_mean)\n",
    "for i, v in enumerate(df_mean['Usage']):\n",
    "    plt.text(i - 0.4, v + 0.02 , str(round(v,4)) + ' kwh')\n",
    "plt.xlabel('Month')\n",
    "plt.ylabel('Usage')\n",
    "plt.title('Monthly Average Usage')"
   ]
  },
  {
   "cell_type": "markdown",
   "id": "3ed6d180",
   "metadata": {},
   "source": [
    "<H1>No Flex\n",
    "<H6>Price=0.21 $"
   ]
  },
  {
   "cell_type": "code",
   "execution_count": 13,
   "id": "64c3225a",
   "metadata": {},
   "outputs": [
    {
     "name": "stdout",
     "output_type": "stream",
     "text": [
      "Annual cost at\u001b[1m a fixed price \u001b[0mof electricity: \u001b[1m 1438.10394 $\n"
     ]
    }
   ],
   "source": [
    "print('Annual cost at'+ color.BOLD + ' a fixed price ' + color.END + 'of electricity: ' + color.BOLD + '',df.groupby(pd.PeriodIndex(df['Date'], freq = \"M\")).sum().sum()[0] * 0.21, '$')"
   ]
  },
  {
   "cell_type": "markdown",
   "id": "a7cb8000",
   "metadata": {},
   "source": [
    "<H1>Monthly Flex"
   ]
  },
  {
   "cell_type": "markdown",
   "id": "972156bc",
   "metadata": {},
   "source": [
    "<H4>Group by Month"
   ]
  },
  {
   "cell_type": "code",
   "execution_count": 14,
   "id": "7fe017f0",
   "metadata": {},
   "outputs": [],
   "source": [
    "df_sum = df.groupby(pd.PeriodIndex(df['Date'], freq=\"M\")).sum().reset_index()"
   ]
  },
  {
   "cell_type": "markdown",
   "id": "0c919f3f",
   "metadata": {},
   "source": [
    "<H4>Add Month and Price columns"
   ]
  },
  {
   "cell_type": "code",
   "execution_count": 15,
   "id": "f8566b2f",
   "metadata": {},
   "outputs": [],
   "source": [
    "df_sum['Month'] = month\n",
    "df_sum['Price'] = price_monthly"
   ]
  },
  {
   "cell_type": "code",
   "execution_count": 16,
   "id": "cc796e97",
   "metadata": {
    "scrolled": true
   },
   "outputs": [
    {
     "data": {
      "text/html": [
       "<div>\n",
       "<style scoped>\n",
       "    .dataframe tbody tr th:only-of-type {\n",
       "        vertical-align: middle;\n",
       "    }\n",
       "\n",
       "    .dataframe tbody tr th {\n",
       "        vertical-align: top;\n",
       "    }\n",
       "\n",
       "    .dataframe thead th {\n",
       "        text-align: right;\n",
       "    }\n",
       "</style>\n",
       "<table border=\"1\" class=\"dataframe\">\n",
       "  <thead>\n",
       "    <tr style=\"text-align: right;\">\n",
       "      <th></th>\n",
       "      <th>Date</th>\n",
       "      <th>Usage</th>\n",
       "      <th>Month</th>\n",
       "      <th>Price</th>\n",
       "    </tr>\n",
       "  </thead>\n",
       "  <tbody>\n",
       "    <tr>\n",
       "      <th>0</th>\n",
       "      <td>2014-01</td>\n",
       "      <td>1042.660</td>\n",
       "      <td>January</td>\n",
       "      <td>0.20</td>\n",
       "    </tr>\n",
       "    <tr>\n",
       "      <th>1</th>\n",
       "      <td>2014-02</td>\n",
       "      <td>559.436</td>\n",
       "      <td>February</td>\n",
       "      <td>0.19</td>\n",
       "    </tr>\n",
       "    <tr>\n",
       "      <th>2</th>\n",
       "      <td>2014-03</td>\n",
       "      <td>422.655</td>\n",
       "      <td>March</td>\n",
       "      <td>0.17</td>\n",
       "    </tr>\n",
       "    <tr>\n",
       "      <th>3</th>\n",
       "      <td>2014-04</td>\n",
       "      <td>151.666</td>\n",
       "      <td>April</td>\n",
       "      <td>0.18</td>\n",
       "    </tr>\n",
       "    <tr>\n",
       "      <th>4</th>\n",
       "      <td>2014-05</td>\n",
       "      <td>416.813</td>\n",
       "      <td>May</td>\n",
       "      <td>0.22</td>\n",
       "    </tr>\n",
       "    <tr>\n",
       "      <th>5</th>\n",
       "      <td>2014-06</td>\n",
       "      <td>899.904</td>\n",
       "      <td>June</td>\n",
       "      <td>0.27</td>\n",
       "    </tr>\n",
       "    <tr>\n",
       "      <th>6</th>\n",
       "      <td>2014-07</td>\n",
       "      <td>1255.351</td>\n",
       "      <td>July</td>\n",
       "      <td>0.24</td>\n",
       "    </tr>\n",
       "    <tr>\n",
       "      <th>7</th>\n",
       "      <td>2014-08</td>\n",
       "      <td>635.819</td>\n",
       "      <td>August</td>\n",
       "      <td>0.19</td>\n",
       "    </tr>\n",
       "    <tr>\n",
       "      <th>8</th>\n",
       "      <td>2014-09</td>\n",
       "      <td>348.723</td>\n",
       "      <td>September</td>\n",
       "      <td>0.18</td>\n",
       "    </tr>\n",
       "    <tr>\n",
       "      <th>9</th>\n",
       "      <td>2014-10</td>\n",
       "      <td>313.719</td>\n",
       "      <td>October</td>\n",
       "      <td>0.15</td>\n",
       "    </tr>\n",
       "    <tr>\n",
       "      <th>10</th>\n",
       "      <td>2014-11</td>\n",
       "      <td>232.420</td>\n",
       "      <td>November</td>\n",
       "      <td>0.14</td>\n",
       "    </tr>\n",
       "    <tr>\n",
       "      <th>11</th>\n",
       "      <td>2014-12</td>\n",
       "      <td>568.948</td>\n",
       "      <td>December</td>\n",
       "      <td>0.19</td>\n",
       "    </tr>\n",
       "  </tbody>\n",
       "</table>\n",
       "</div>"
      ],
      "text/plain": [
       "       Date     Usage      Month  Price\n",
       "0   2014-01  1042.660    January   0.20\n",
       "1   2014-02   559.436   February   0.19\n",
       "2   2014-03   422.655      March   0.17\n",
       "3   2014-04   151.666      April   0.18\n",
       "4   2014-05   416.813        May   0.22\n",
       "5   2014-06   899.904       June   0.27\n",
       "6   2014-07  1255.351       July   0.24\n",
       "7   2014-08   635.819     August   0.19\n",
       "8   2014-09   348.723  September   0.18\n",
       "9   2014-10   313.719    October   0.15\n",
       "10  2014-11   232.420   November   0.14\n",
       "11  2014-12   568.948   December   0.19"
      ]
     },
     "execution_count": 16,
     "metadata": {},
     "output_type": "execute_result"
    }
   ],
   "source": [
    "df_sum"
   ]
  },
  {
   "cell_type": "code",
   "execution_count": 17,
   "id": "d19e6927",
   "metadata": {},
   "outputs": [
    {
     "name": "stdout",
     "output_type": "stream",
     "text": [
      "Annual cost at a\u001b[1m Monthly Flex \u001b[0mof electricity: \u001b[1m 1421.20577 $\n"
     ]
    }
   ],
   "source": [
    "print('Annual cost at a' + color.BOLD + ' Monthly Flex ' + color.END + 'of electricity: ' + color.BOLD + '',(df_sum['Price'] * df_sum['Usage']).sum(),'$')"
   ]
  },
  {
   "cell_type": "markdown",
   "id": "c44a8cb2",
   "metadata": {},
   "source": [
    "<H1>Hourly Flex"
   ]
  },
  {
   "cell_type": "markdown",
   "id": "a5554795",
   "metadata": {},
   "source": [
    "<H4>Group by hours"
   ]
  },
  {
   "cell_type": "code",
   "execution_count": 18,
   "id": "21834f3a",
   "metadata": {},
   "outputs": [],
   "source": [
    "df_sum_hour = df.groupby(pd.PeriodIndex(df['Time'], freq = \"h\")).sum().reset_index()"
   ]
  },
  {
   "cell_type": "markdown",
   "id": "00656b85",
   "metadata": {},
   "source": [
    "<H4>Add Hour and Price columns"
   ]
  },
  {
   "cell_type": "code",
   "execution_count": 19,
   "id": "7cf22303",
   "metadata": {},
   "outputs": [],
   "source": [
    "df_sum_hour['Hour']=hour\n",
    "df_sum_hour['Price']=price_hourly"
   ]
  },
  {
   "cell_type": "code",
   "execution_count": 20,
   "id": "64329fed",
   "metadata": {},
   "outputs": [
    {
     "data": {
      "text/html": [
       "<div>\n",
       "<style scoped>\n",
       "    .dataframe tbody tr th:only-of-type {\n",
       "        vertical-align: middle;\n",
       "    }\n",
       "\n",
       "    .dataframe tbody tr th {\n",
       "        vertical-align: top;\n",
       "    }\n",
       "\n",
       "    .dataframe thead th {\n",
       "        text-align: right;\n",
       "    }\n",
       "</style>\n",
       "<table border=\"1\" class=\"dataframe\">\n",
       "  <thead>\n",
       "    <tr style=\"text-align: right;\">\n",
       "      <th></th>\n",
       "      <th>Time</th>\n",
       "      <th>Usage</th>\n",
       "      <th>Hour</th>\n",
       "      <th>Price</th>\n",
       "    </tr>\n",
       "  </thead>\n",
       "  <tbody>\n",
       "    <tr>\n",
       "      <th>0</th>\n",
       "      <td>0001-01-01 00:00</td>\n",
       "      <td>181.638</td>\n",
       "      <td>11PM until 12AM</td>\n",
       "      <td>0.10</td>\n",
       "    </tr>\n",
       "    <tr>\n",
       "      <th>1</th>\n",
       "      <td>0001-01-01 01:00</td>\n",
       "      <td>93.966</td>\n",
       "      <td>12AM until 1AM</td>\n",
       "      <td>0.10</td>\n",
       "    </tr>\n",
       "    <tr>\n",
       "      <th>2</th>\n",
       "      <td>0001-01-01 02:00</td>\n",
       "      <td>92.192</td>\n",
       "      <td>1AM until 2AM</td>\n",
       "      <td>0.10</td>\n",
       "    </tr>\n",
       "    <tr>\n",
       "      <th>3</th>\n",
       "      <td>0001-01-01 03:00</td>\n",
       "      <td>92.315</td>\n",
       "      <td>2AM until 3AM</td>\n",
       "      <td>0.10</td>\n",
       "    </tr>\n",
       "    <tr>\n",
       "      <th>4</th>\n",
       "      <td>0001-01-01 04:00</td>\n",
       "      <td>93.596</td>\n",
       "      <td>3AM until 4AM</td>\n",
       "      <td>0.10</td>\n",
       "    </tr>\n",
       "    <tr>\n",
       "      <th>5</th>\n",
       "      <td>0001-01-01 05:00</td>\n",
       "      <td>354.582</td>\n",
       "      <td>4AM until 5AM</td>\n",
       "      <td>0.15</td>\n",
       "    </tr>\n",
       "    <tr>\n",
       "      <th>6</th>\n",
       "      <td>0001-01-01 06:00</td>\n",
       "      <td>446.288</td>\n",
       "      <td>5AM until 6AM</td>\n",
       "      <td>0.20</td>\n",
       "    </tr>\n",
       "    <tr>\n",
       "      <th>7</th>\n",
       "      <td>0001-01-01 07:00</td>\n",
       "      <td>399.243</td>\n",
       "      <td>6AM until 7AM</td>\n",
       "      <td>0.24</td>\n",
       "    </tr>\n",
       "    <tr>\n",
       "      <th>8</th>\n",
       "      <td>0001-01-01 08:00</td>\n",
       "      <td>268.043</td>\n",
       "      <td>7AM until 8AM</td>\n",
       "      <td>0.24</td>\n",
       "    </tr>\n",
       "    <tr>\n",
       "      <th>9</th>\n",
       "      <td>0001-01-01 09:00</td>\n",
       "      <td>190.439</td>\n",
       "      <td>8AM until 9AM</td>\n",
       "      <td>0.26</td>\n",
       "    </tr>\n",
       "    <tr>\n",
       "      <th>10</th>\n",
       "      <td>0001-01-01 10:00</td>\n",
       "      <td>183.174</td>\n",
       "      <td>9AM until 10AM</td>\n",
       "      <td>0.20</td>\n",
       "    </tr>\n",
       "    <tr>\n",
       "      <th>11</th>\n",
       "      <td>0001-01-01 11:00</td>\n",
       "      <td>213.951</td>\n",
       "      <td>10AM until 11AM</td>\n",
       "      <td>0.20</td>\n",
       "    </tr>\n",
       "    <tr>\n",
       "      <th>12</th>\n",
       "      <td>0001-01-01 12:00</td>\n",
       "      <td>212.546</td>\n",
       "      <td>11AM until 12PM</td>\n",
       "      <td>0.26</td>\n",
       "    </tr>\n",
       "    <tr>\n",
       "      <th>13</th>\n",
       "      <td>0001-01-01 13:00</td>\n",
       "      <td>184.716</td>\n",
       "      <td>12PM until 1PM</td>\n",
       "      <td>0.26</td>\n",
       "    </tr>\n",
       "    <tr>\n",
       "      <th>14</th>\n",
       "      <td>0001-01-01 14:00</td>\n",
       "      <td>208.166</td>\n",
       "      <td>1PM until 2PM</td>\n",
       "      <td>0.20</td>\n",
       "    </tr>\n",
       "    <tr>\n",
       "      <th>15</th>\n",
       "      <td>0001-01-01 15:00</td>\n",
       "      <td>220.122</td>\n",
       "      <td>2PM until 3PM</td>\n",
       "      <td>0.24</td>\n",
       "    </tr>\n",
       "    <tr>\n",
       "      <th>16</th>\n",
       "      <td>0001-01-01 16:00</td>\n",
       "      <td>219.374</td>\n",
       "      <td>3PM until 4PM</td>\n",
       "      <td>0.18</td>\n",
       "    </tr>\n",
       "    <tr>\n",
       "      <th>17</th>\n",
       "      <td>0001-01-01 17:00</td>\n",
       "      <td>481.243</td>\n",
       "      <td>4PM until 5PM</td>\n",
       "      <td>0.15</td>\n",
       "    </tr>\n",
       "    <tr>\n",
       "      <th>18</th>\n",
       "      <td>0001-01-01 18:00</td>\n",
       "      <td>619.418</td>\n",
       "      <td>5PM until 6PM</td>\n",
       "      <td>0.30</td>\n",
       "    </tr>\n",
       "    <tr>\n",
       "      <th>19</th>\n",
       "      <td>0001-01-01 19:00</td>\n",
       "      <td>731.126</td>\n",
       "      <td>6PM until 7PM</td>\n",
       "      <td>0.24</td>\n",
       "    </tr>\n",
       "    <tr>\n",
       "      <th>20</th>\n",
       "      <td>0001-01-01 20:00</td>\n",
       "      <td>670.779</td>\n",
       "      <td>7PM until 8PM</td>\n",
       "      <td>0.24</td>\n",
       "    </tr>\n",
       "    <tr>\n",
       "      <th>21</th>\n",
       "      <td>0001-01-01 21:00</td>\n",
       "      <td>223.139</td>\n",
       "      <td>8PM until 9PM</td>\n",
       "      <td>0.12</td>\n",
       "    </tr>\n",
       "    <tr>\n",
       "      <th>22</th>\n",
       "      <td>0001-01-01 22:00</td>\n",
       "      <td>210.731</td>\n",
       "      <td>9PM until 10PM</td>\n",
       "      <td>0.11</td>\n",
       "    </tr>\n",
       "    <tr>\n",
       "      <th>23</th>\n",
       "      <td>0001-01-01 23:00</td>\n",
       "      <td>257.327</td>\n",
       "      <td>10PM until 11PM</td>\n",
       "      <td>0.10</td>\n",
       "    </tr>\n",
       "  </tbody>\n",
       "</table>\n",
       "</div>"
      ],
      "text/plain": [
       "                Time    Usage             Hour  Price\n",
       "0   0001-01-01 00:00  181.638  11PM until 12AM   0.10\n",
       "1   0001-01-01 01:00   93.966   12AM until 1AM   0.10\n",
       "2   0001-01-01 02:00   92.192    1AM until 2AM   0.10\n",
       "3   0001-01-01 03:00   92.315    2AM until 3AM   0.10\n",
       "4   0001-01-01 04:00   93.596    3AM until 4AM   0.10\n",
       "5   0001-01-01 05:00  354.582    4AM until 5AM   0.15\n",
       "6   0001-01-01 06:00  446.288    5AM until 6AM   0.20\n",
       "7   0001-01-01 07:00  399.243    6AM until 7AM   0.24\n",
       "8   0001-01-01 08:00  268.043    7AM until 8AM   0.24\n",
       "9   0001-01-01 09:00  190.439    8AM until 9AM   0.26\n",
       "10  0001-01-01 10:00  183.174   9AM until 10AM   0.20\n",
       "11  0001-01-01 11:00  213.951  10AM until 11AM   0.20\n",
       "12  0001-01-01 12:00  212.546  11AM until 12PM   0.26\n",
       "13  0001-01-01 13:00  184.716   12PM until 1PM   0.26\n",
       "14  0001-01-01 14:00  208.166    1PM until 2PM   0.20\n",
       "15  0001-01-01 15:00  220.122    2PM until 3PM   0.24\n",
       "16  0001-01-01 16:00  219.374    3PM until 4PM   0.18\n",
       "17  0001-01-01 17:00  481.243    4PM until 5PM   0.15\n",
       "18  0001-01-01 18:00  619.418    5PM until 6PM   0.30\n",
       "19  0001-01-01 19:00  731.126    6PM until 7PM   0.24\n",
       "20  0001-01-01 20:00  670.779    7PM until 8PM   0.24\n",
       "21  0001-01-01 21:00  223.139    8PM until 9PM   0.12\n",
       "22  0001-01-01 22:00  210.731   9PM until 10PM   0.11\n",
       "23  0001-01-01 23:00  257.327  10PM until 11PM   0.10"
      ]
     },
     "execution_count": 20,
     "metadata": {},
     "output_type": "execute_result"
    }
   ],
   "source": [
    "df_sum_hour"
   ]
  },
  {
   "cell_type": "code",
   "execution_count": 21,
   "id": "3871479d",
   "metadata": {},
   "outputs": [
    {
     "name": "stdout",
     "output_type": "stream",
     "text": [
      "Annual cost at a \u001b[1mHourly Flex \u001b[0mof electricity: \u001b[1m 1394.3001399999998 $\n"
     ]
    }
   ],
   "source": [
    "print('Annual cost at a ' + color.BOLD + 'Hourly Flex ' + color.END + 'of electricity: ' + color.BOLD + '',(df_sum_hour['Usage'] * df_sum_hour['Price']).sum(),'$')"
   ]
  },
  {
   "cell_type": "markdown",
   "id": "32433e86",
   "metadata": {},
   "source": [
    "<H3>Question 1\n",
    "<H6>What is your average hourly electricity usage?"
   ]
  },
  {
   "cell_type": "code",
   "execution_count": 22,
   "id": "268c6c34",
   "metadata": {},
   "outputs": [
    {
     "name": "stdout",
     "output_type": "stream",
     "text": [
      "Average hourly electricity usage:\u001b[1m 0.782 kwh\u001b[0m\n"
     ]
    }
   ],
   "source": [
    "print('Average hourly electricity usage:' + color.BOLD + '', round(df.groupby(pd.PeriodIndex(df['Time'], freq = \"h\")).mean().reset_index()['Usage'].mean(),3), 'kwh' + color.END)"
   ]
  },
  {
   "cell_type": "markdown",
   "id": "3f7bb595",
   "metadata": {},
   "source": [
    "<H3>Question 2\n",
    "<H6>What is your average electricity usage perhour in February?"
   ]
  },
  {
   "cell_type": "code",
   "execution_count": 23,
   "id": "e29f3562",
   "metadata": {},
   "outputs": [
    {
     "name": "stdout",
     "output_type": "stream",
     "text": [
      "Average electricity usage\u001b[1m per hour\u001b[0m in \u001b[1mFebral: 0.833 kwh\n"
     ]
    }
   ],
   "source": [
    "avg_usage_feb = df[df['Month'] == 'Feb'].groupby(pd.PeriodIndex(df[df['Month'] == 'Feb']['Time'], freq = \"h\")).mean().reset_index()['Usage'].mean()\n",
    "print('Average electricity usage' + color.BOLD + ' per hour' + color.END + ' in ' + color.BOLD + 'Febral:',\n",
    "round(avg_usage_feb, 3), 'kwh')"
   ]
  },
  {
   "cell_type": "markdown",
   "id": "8f0bff58",
   "metadata": {},
   "source": [
    "<H3>Question 3\n",
    "<H6>Which day of the week has the highest average usage?"
   ]
  },
  {
   "cell_type": "code",
   "execution_count": 24,
   "id": "36e23bc8",
   "metadata": {},
   "outputs": [],
   "source": [
    "df_weekly = df.groupby(df['Weekday']).mean().reset_index()"
   ]
  },
  {
   "cell_type": "code",
   "execution_count": 25,
   "id": "b6a1574d",
   "metadata": {},
   "outputs": [
    {
     "data": {
      "text/html": [
       "<div>\n",
       "<style scoped>\n",
       "    .dataframe tbody tr th:only-of-type {\n",
       "        vertical-align: middle;\n",
       "    }\n",
       "\n",
       "    .dataframe tbody tr th {\n",
       "        vertical-align: top;\n",
       "    }\n",
       "\n",
       "    .dataframe thead th {\n",
       "        text-align: right;\n",
       "    }\n",
       "</style>\n",
       "<table border=\"1\" class=\"dataframe\">\n",
       "  <thead>\n",
       "    <tr style=\"text-align: right;\">\n",
       "      <th></th>\n",
       "      <th>Weekday</th>\n",
       "      <th>Usage</th>\n",
       "    </tr>\n",
       "  </thead>\n",
       "  <tbody>\n",
       "    <tr>\n",
       "      <th>0</th>\n",
       "      <td>Friday</td>\n",
       "      <td>0.753666</td>\n",
       "    </tr>\n",
       "    <tr>\n",
       "      <th>1</th>\n",
       "      <td>Monday</td>\n",
       "      <td>0.725894</td>\n",
       "    </tr>\n",
       "    <tr>\n",
       "      <th>2</th>\n",
       "      <td>Saturday</td>\n",
       "      <td>0.890300</td>\n",
       "    </tr>\n",
       "    <tr>\n",
       "      <th>3</th>\n",
       "      <td>Sunday</td>\n",
       "      <td>0.898601</td>\n",
       "    </tr>\n",
       "    <tr>\n",
       "      <th>4</th>\n",
       "      <td>Thursday</td>\n",
       "      <td>0.746375</td>\n",
       "    </tr>\n",
       "    <tr>\n",
       "      <th>5</th>\n",
       "      <td>Tuesday</td>\n",
       "      <td>0.724843</td>\n",
       "    </tr>\n",
       "    <tr>\n",
       "      <th>6</th>\n",
       "      <td>Wednesday</td>\n",
       "      <td>0.733699</td>\n",
       "    </tr>\n",
       "  </tbody>\n",
       "</table>\n",
       "</div>"
      ],
      "text/plain": [
       "     Weekday     Usage\n",
       "0     Friday  0.753666\n",
       "1     Monday  0.725894\n",
       "2   Saturday  0.890300\n",
       "3     Sunday  0.898601\n",
       "4   Thursday  0.746375\n",
       "5    Tuesday  0.724843\n",
       "6  Wednesday  0.733699"
      ]
     },
     "execution_count": 25,
     "metadata": {},
     "output_type": "execute_result"
    }
   ],
   "source": [
    "df_weekly"
   ]
  },
  {
   "cell_type": "code",
   "execution_count": 26,
   "id": "7a45cfae",
   "metadata": {},
   "outputs": [
    {
     "data": {
      "text/html": [
       "<div>\n",
       "<style scoped>\n",
       "    .dataframe tbody tr th:only-of-type {\n",
       "        vertical-align: middle;\n",
       "    }\n",
       "\n",
       "    .dataframe tbody tr th {\n",
       "        vertical-align: top;\n",
       "    }\n",
       "\n",
       "    .dataframe thead th {\n",
       "        text-align: right;\n",
       "    }\n",
       "</style>\n",
       "<table border=\"1\" class=\"dataframe\">\n",
       "  <thead>\n",
       "    <tr style=\"text-align: right;\">\n",
       "      <th></th>\n",
       "      <th>Weekday</th>\n",
       "      <th>Usage</th>\n",
       "    </tr>\n",
       "  </thead>\n",
       "  <tbody>\n",
       "    <tr>\n",
       "      <th>3</th>\n",
       "      <td>Sunday</td>\n",
       "      <td>0.898601</td>\n",
       "    </tr>\n",
       "  </tbody>\n",
       "</table>\n",
       "</div>"
      ],
      "text/plain": [
       "  Weekday     Usage\n",
       "3  Sunday  0.898601"
      ]
     },
     "execution_count": 26,
     "metadata": {},
     "output_type": "execute_result"
    }
   ],
   "source": [
    "df_weekly[df_weekly['Usage'] == df_weekly['Usage'].max()]"
   ]
  },
  {
   "cell_type": "code",
   "execution_count": 27,
   "id": "bd00dce3",
   "metadata": {},
   "outputs": [
    {
     "data": {
      "text/plain": [
       "Text(0.5, 1.0, 'Daily average usage')"
      ]
     },
     "execution_count": 27,
     "metadata": {},
     "output_type": "execute_result"
    },
    {
     "data": {
      "image/png": "[encoded data removed]",
      "text/plain": [
       "<Figure size 1500x600 with 1 Axes>"
      ]
     },
     "metadata": {},
     "output_type": "display_data"
    }
   ],
   "source": [
    "plt.figure(figsize = (15,6))\n",
    "sns.barplot(x = 'Weekday',y = 'Usage',data = df_weekly)\n",
    "for i, v in enumerate(df_weekly['Usage']):\n",
    "    plt.text(i - 0.2, v + 0.01 , str(round(v,4)) + ' kwh')\n",
    "plt.xlabel('Weekday')\n",
    "plt.ylabel('Usage')\n",
    "plt.title('Daily average usage')"
   ]
  },
  {
   "cell_type": "code",
   "execution_count": 28,
   "id": "be5b8675",
   "metadata": {},
   "outputs": [
    {
     "name": "stdout",
     "output_type": "stream",
     "text": [
      "\u001b[1mAnswer: \u001b[0mSunday has the highest average usage.\n"
     ]
    }
   ],
   "source": [
    "print(color.BOLD + 'Answer: ' + color.END + 'Sunday has the highest average usage.')"
   ]
  },
  {
   "cell_type": "markdown",
   "id": "be65964e",
   "metadata": {},
   "source": [
    "<H3>Question 4\n",
    "<H6>What is the highest amount of electricity used in a continuous 4 hour period?"
   ]
  },
  {
   "cell_type": "code",
   "execution_count": 29,
   "id": "9a6a7d8d",
   "metadata": {},
   "outputs": [],
   "source": [
    "#I create new sorted DataFrame. I will work on this to find highest amount of electricity use in a continuous 4 hour period\n",
    "sorted_df = df.drop('Time', axis = 1)\n",
    "sorted_df['Time'] = time\n",
    "sorted_df['AM/PM'] = AM_PM"
   ]
  },
  {
   "cell_type": "code",
   "execution_count": 30,
   "id": "da7fdfd3",
   "metadata": {},
   "outputs": [],
   "source": [
    "#Firstly we sort data by Date and Time\n",
    "sorted_df = sorted_df.sort_values(by = [\"Date\",'AM/PM', \"Time\"], ascending = True)"
   ]
  },
  {
   "cell_type": "code",
   "execution_count": 31,
   "id": "b11f210f",
   "metadata": {},
   "outputs": [
    {
     "data": {
      "text/html": [
       "<div>\n",
       "<style scoped>\n",
       "    .dataframe tbody tr th:only-of-type {\n",
       "        vertical-align: middle;\n",
       "    }\n",
       "\n",
       "    .dataframe tbody tr th {\n",
       "        vertical-align: top;\n",
       "    }\n",
       "\n",
       "    .dataframe thead th {\n",
       "        text-align: right;\n",
       "    }\n",
       "</style>\n",
       "<table border=\"1\" class=\"dataframe\">\n",
       "  <thead>\n",
       "    <tr style=\"text-align: right;\">\n",
       "      <th></th>\n",
       "      <th>Weekday</th>\n",
       "      <th>Month</th>\n",
       "      <th>Date</th>\n",
       "      <th>Usage</th>\n",
       "      <th>Unit</th>\n",
       "      <th>Time</th>\n",
       "      <th>AM/PM</th>\n",
       "    </tr>\n",
       "  </thead>\n",
       "  <tbody>\n",
       "    <tr>\n",
       "      <th>6316</th>\n",
       "      <td>Wednesday</td>\n",
       "      <td>Jan</td>\n",
       "      <td>2014-01-01</td>\n",
       "      <td>0.340</td>\n",
       "      <td>kwh</td>\n",
       "      <td>1</td>\n",
       "      <td>AM</td>\n",
       "    </tr>\n",
       "    <tr>\n",
       "      <th>5987</th>\n",
       "      <td>Wednesday</td>\n",
       "      <td>Jan</td>\n",
       "      <td>2014-01-01</td>\n",
       "      <td>0.952</td>\n",
       "      <td>kwh</td>\n",
       "      <td>10</td>\n",
       "      <td>AM</td>\n",
       "    </tr>\n",
       "    <tr>\n",
       "      <th>4591</th>\n",
       "      <td>Wednesday</td>\n",
       "      <td>Jan</td>\n",
       "      <td>2014-01-01</td>\n",
       "      <td>0.830</td>\n",
       "      <td>kwh</td>\n",
       "      <td>11</td>\n",
       "      <td>AM</td>\n",
       "    </tr>\n",
       "    <tr>\n",
       "      <th>8425</th>\n",
       "      <td>Wednesday</td>\n",
       "      <td>Jan</td>\n",
       "      <td>2014-01-01</td>\n",
       "      <td>0.684</td>\n",
       "      <td>kwh</td>\n",
       "      <td>12</td>\n",
       "      <td>AM</td>\n",
       "    </tr>\n",
       "    <tr>\n",
       "      <th>5068</th>\n",
       "      <td>Wednesday</td>\n",
       "      <td>Jan</td>\n",
       "      <td>2014-01-01</td>\n",
       "      <td>0.332</td>\n",
       "      <td>kwh</td>\n",
       "      <td>2</td>\n",
       "      <td>AM</td>\n",
       "    </tr>\n",
       "    <tr>\n",
       "      <th>...</th>\n",
       "      <td>...</td>\n",
       "      <td>...</td>\n",
       "      <td>...</td>\n",
       "      <td>...</td>\n",
       "      <td>...</td>\n",
       "      <td>...</td>\n",
       "      <td>...</td>\n",
       "    </tr>\n",
       "    <tr>\n",
       "      <th>6339</th>\n",
       "      <td>Wednesday</td>\n",
       "      <td>Dec</td>\n",
       "      <td>2014-12-31</td>\n",
       "      <td>1.544</td>\n",
       "      <td>kwh</td>\n",
       "      <td>5</td>\n",
       "      <td>PM</td>\n",
       "    </tr>\n",
       "    <tr>\n",
       "      <th>2993</th>\n",
       "      <td>Wednesday</td>\n",
       "      <td>Dec</td>\n",
       "      <td>2014-12-31</td>\n",
       "      <td>1.448</td>\n",
       "      <td>kwh</td>\n",
       "      <td>6</td>\n",
       "      <td>PM</td>\n",
       "    </tr>\n",
       "    <tr>\n",
       "      <th>7408</th>\n",
       "      <td>Wednesday</td>\n",
       "      <td>Dec</td>\n",
       "      <td>2014-12-31</td>\n",
       "      <td>1.940</td>\n",
       "      <td>kwh</td>\n",
       "      <td>7</td>\n",
       "      <td>PM</td>\n",
       "    </tr>\n",
       "    <tr>\n",
       "      <th>7959</th>\n",
       "      <td>Wednesday</td>\n",
       "      <td>Dec</td>\n",
       "      <td>2014-12-31</td>\n",
       "      <td>1.901</td>\n",
       "      <td>kwh</td>\n",
       "      <td>8</td>\n",
       "      <td>PM</td>\n",
       "    </tr>\n",
       "    <tr>\n",
       "      <th>7703</th>\n",
       "      <td>Wednesday</td>\n",
       "      <td>Dec</td>\n",
       "      <td>2014-12-31</td>\n",
       "      <td>0.766</td>\n",
       "      <td>kwh</td>\n",
       "      <td>9</td>\n",
       "      <td>PM</td>\n",
       "    </tr>\n",
       "  </tbody>\n",
       "</table>\n",
       "<p>8760 rows × 7 columns</p>\n",
       "</div>"
      ],
      "text/plain": [
       "        Weekday Month       Date  Usage Unit Time AM/PM\n",
       "6316  Wednesday   Jan 2014-01-01  0.340  kwh    1    AM\n",
       "5987  Wednesday   Jan 2014-01-01  0.952  kwh   10    AM\n",
       "4591  Wednesday   Jan 2014-01-01  0.830  kwh   11    AM\n",
       "8425  Wednesday   Jan 2014-01-01  0.684  kwh   12    AM\n",
       "5068  Wednesday   Jan 2014-01-01  0.332  kwh    2    AM\n",
       "...         ...   ...        ...    ...  ...  ...   ...\n",
       "6339  Wednesday   Dec 2014-12-31  1.544  kwh    5    PM\n",
       "2993  Wednesday   Dec 2014-12-31  1.448  kwh    6    PM\n",
       "7408  Wednesday   Dec 2014-12-31  1.940  kwh    7    PM\n",
       "7959  Wednesday   Dec 2014-12-31  1.901  kwh    8    PM\n",
       "7703  Wednesday   Dec 2014-12-31  0.766  kwh    9    PM\n",
       "\n",
       "[8760 rows x 7 columns]"
      ]
     },
     "execution_count": 31,
     "metadata": {},
     "output_type": "execute_result"
    }
   ],
   "source": [
    "sorted_df"
   ]
  },
  {
   "cell_type": "code",
   "execution_count": 32,
   "id": "196ac84d",
   "metadata": {},
   "outputs": [
    {
     "data": {
      "text/html": [
       "<div>\n",
       "<style scoped>\n",
       "    .dataframe tbody tr th:only-of-type {\n",
       "        vertical-align: middle;\n",
       "    }\n",
       "\n",
       "    .dataframe tbody tr th {\n",
       "        vertical-align: top;\n",
       "    }\n",
       "\n",
       "    .dataframe thead th {\n",
       "        text-align: right;\n",
       "    }\n",
       "</style>\n",
       "<table border=\"1\" class=\"dataframe\">\n",
       "  <thead>\n",
       "    <tr style=\"text-align: right;\">\n",
       "      <th></th>\n",
       "      <th>Weekday</th>\n",
       "      <th>Month</th>\n",
       "      <th>Date</th>\n",
       "      <th>Usage</th>\n",
       "      <th>Unit</th>\n",
       "      <th>Time</th>\n",
       "      <th>AM/PM</th>\n",
       "    </tr>\n",
       "  </thead>\n",
       "  <tbody>\n",
       "    <tr>\n",
       "      <th>8258</th>\n",
       "      <td>Sunday</td>\n",
       "      <td>Jul</td>\n",
       "      <td>2014-07-20</td>\n",
       "      <td>5.141</td>\n",
       "      <td>kwh</td>\n",
       "      <td>8</td>\n",
       "      <td>PM</td>\n",
       "    </tr>\n",
       "    <tr>\n",
       "      <th>1739</th>\n",
       "      <td>Saturday</td>\n",
       "      <td>Jul</td>\n",
       "      <td>2014-07-26</td>\n",
       "      <td>5.141</td>\n",
       "      <td>kwh</td>\n",
       "      <td>7</td>\n",
       "      <td>PM</td>\n",
       "    </tr>\n",
       "    <tr>\n",
       "      <th>2965</th>\n",
       "      <td>Sunday</td>\n",
       "      <td>Jul</td>\n",
       "      <td>2014-07-27</td>\n",
       "      <td>5.141</td>\n",
       "      <td>kwh</td>\n",
       "      <td>8</td>\n",
       "      <td>PM</td>\n",
       "    </tr>\n",
       "  </tbody>\n",
       "</table>\n",
       "</div>"
      ],
      "text/plain": [
       "       Weekday Month       Date  Usage Unit Time AM/PM\n",
       "8258    Sunday   Jul 2014-07-20  5.141  kwh    8    PM\n",
       "1739  Saturday   Jul 2014-07-26  5.141  kwh    7    PM\n",
       "2965    Sunday   Jul 2014-07-27  5.141  kwh    8    PM"
      ]
     },
     "execution_count": 32,
     "metadata": {},
     "output_type": "execute_result"
    }
   ],
   "source": [
    "#Here we can see that max usage was in July\n",
    "sorted_df[sorted_df['Usage'] == sorted_df['Usage'].max()]"
   ]
  },
  {
   "cell_type": "code",
   "execution_count": 33,
   "id": "d47719c8",
   "metadata": {},
   "outputs": [],
   "source": [
    "#Just filter data to take month of July \n",
    "jul = sorted_df[sorted_df['Month'] == 'Jul']\n",
    "jul.reset_index(inplace = True, drop = True)"
   ]
  },
  {
   "cell_type": "code",
   "execution_count": 34,
   "id": "da8b4f17",
   "metadata": {},
   "outputs": [
    {
     "data": {
      "text/html": [
       "<div>\n",
       "<style scoped>\n",
       "    .dataframe tbody tr th:only-of-type {\n",
       "        vertical-align: middle;\n",
       "    }\n",
       "\n",
       "    .dataframe tbody tr th {\n",
       "        vertical-align: top;\n",
       "    }\n",
       "\n",
       "    .dataframe thead th {\n",
       "        text-align: right;\n",
       "    }\n",
       "</style>\n",
       "<table border=\"1\" class=\"dataframe\">\n",
       "  <thead>\n",
       "    <tr style=\"text-align: right;\">\n",
       "      <th></th>\n",
       "      <th>Weekday</th>\n",
       "      <th>Month</th>\n",
       "      <th>Date</th>\n",
       "      <th>Usage</th>\n",
       "      <th>Unit</th>\n",
       "      <th>Time</th>\n",
       "      <th>AM/PM</th>\n",
       "    </tr>\n",
       "  </thead>\n",
       "  <tbody>\n",
       "    <tr>\n",
       "      <th>0</th>\n",
       "      <td>Tuesday</td>\n",
       "      <td>Jul</td>\n",
       "      <td>2014-07-01</td>\n",
       "      <td>0.475</td>\n",
       "      <td>kwh</td>\n",
       "      <td>1</td>\n",
       "      <td>AM</td>\n",
       "    </tr>\n",
       "    <tr>\n",
       "      <th>1</th>\n",
       "      <td>Tuesday</td>\n",
       "      <td>Jul</td>\n",
       "      <td>2014-07-01</td>\n",
       "      <td>0.778</td>\n",
       "      <td>kwh</td>\n",
       "      <td>10</td>\n",
       "      <td>AM</td>\n",
       "    </tr>\n",
       "    <tr>\n",
       "      <th>2</th>\n",
       "      <td>Tuesday</td>\n",
       "      <td>Jul</td>\n",
       "      <td>2014-07-01</td>\n",
       "      <td>1.020</td>\n",
       "      <td>kwh</td>\n",
       "      <td>11</td>\n",
       "      <td>AM</td>\n",
       "    </tr>\n",
       "    <tr>\n",
       "      <th>3</th>\n",
       "      <td>Tuesday</td>\n",
       "      <td>Jul</td>\n",
       "      <td>2014-07-01</td>\n",
       "      <td>0.857</td>\n",
       "      <td>kwh</td>\n",
       "      <td>12</td>\n",
       "      <td>AM</td>\n",
       "    </tr>\n",
       "    <tr>\n",
       "      <th>4</th>\n",
       "      <td>Tuesday</td>\n",
       "      <td>Jul</td>\n",
       "      <td>2014-07-01</td>\n",
       "      <td>0.403</td>\n",
       "      <td>kwh</td>\n",
       "      <td>2</td>\n",
       "      <td>AM</td>\n",
       "    </tr>\n",
       "    <tr>\n",
       "      <th>...</th>\n",
       "      <td>...</td>\n",
       "      <td>...</td>\n",
       "      <td>...</td>\n",
       "      <td>...</td>\n",
       "      <td>...</td>\n",
       "      <td>...</td>\n",
       "      <td>...</td>\n",
       "    </tr>\n",
       "    <tr>\n",
       "      <th>739</th>\n",
       "      <td>Thursday</td>\n",
       "      <td>Jul</td>\n",
       "      <td>2014-07-31</td>\n",
       "      <td>2.777</td>\n",
       "      <td>kwh</td>\n",
       "      <td>5</td>\n",
       "      <td>PM</td>\n",
       "    </tr>\n",
       "    <tr>\n",
       "      <th>740</th>\n",
       "      <td>Thursday</td>\n",
       "      <td>Jul</td>\n",
       "      <td>2014-07-31</td>\n",
       "      <td>3.494</td>\n",
       "      <td>kwh</td>\n",
       "      <td>6</td>\n",
       "      <td>PM</td>\n",
       "    </tr>\n",
       "    <tr>\n",
       "      <th>741</th>\n",
       "      <td>Thursday</td>\n",
       "      <td>Jul</td>\n",
       "      <td>2014-07-31</td>\n",
       "      <td>3.974</td>\n",
       "      <td>kwh</td>\n",
       "      <td>7</td>\n",
       "      <td>PM</td>\n",
       "    </tr>\n",
       "    <tr>\n",
       "      <th>742</th>\n",
       "      <td>Thursday</td>\n",
       "      <td>Jul</td>\n",
       "      <td>2014-07-31</td>\n",
       "      <td>3.110</td>\n",
       "      <td>kwh</td>\n",
       "      <td>8</td>\n",
       "      <td>PM</td>\n",
       "    </tr>\n",
       "    <tr>\n",
       "      <th>743</th>\n",
       "      <td>Thursday</td>\n",
       "      <td>Jul</td>\n",
       "      <td>2014-07-31</td>\n",
       "      <td>1.382</td>\n",
       "      <td>kwh</td>\n",
       "      <td>9</td>\n",
       "      <td>PM</td>\n",
       "    </tr>\n",
       "  </tbody>\n",
       "</table>\n",
       "<p>744 rows × 7 columns</p>\n",
       "</div>"
      ],
      "text/plain": [
       "      Weekday Month       Date  Usage Unit Time AM/PM\n",
       "0     Tuesday   Jul 2014-07-01  0.475  kwh    1    AM\n",
       "1     Tuesday   Jul 2014-07-01  0.778  kwh   10    AM\n",
       "2     Tuesday   Jul 2014-07-01  1.020  kwh   11    AM\n",
       "3     Tuesday   Jul 2014-07-01  0.857  kwh   12    AM\n",
       "4     Tuesday   Jul 2014-07-01  0.403  kwh    2    AM\n",
       "..        ...   ...        ...    ...  ...  ...   ...\n",
       "739  Thursday   Jul 2014-07-31  2.777  kwh    5    PM\n",
       "740  Thursday   Jul 2014-07-31  3.494  kwh    6    PM\n",
       "741  Thursday   Jul 2014-07-31  3.974  kwh    7    PM\n",
       "742  Thursday   Jul 2014-07-31  3.110  kwh    8    PM\n",
       "743  Thursday   Jul 2014-07-31  1.382  kwh    9    PM\n",
       "\n",
       "[744 rows x 7 columns]"
      ]
     },
     "execution_count": 34,
     "metadata": {},
     "output_type": "execute_result"
    }
   ],
   "source": [
    "jul"
   ]
  },
  {
   "cell_type": "code",
   "execution_count": 35,
   "id": "e628b807",
   "metadata": {},
   "outputs": [],
   "source": [
    "sum_4_usages = []\n",
    "for i in range(len(jul)):\n",
    "    sum_4_usages.append(jul.iloc[i:i+4]['Usage'].sum())"
   ]
  },
  {
   "cell_type": "code",
   "execution_count": 36,
   "id": "8f0365de",
   "metadata": {},
   "outputs": [
    {
     "name": "stdout",
     "output_type": "stream",
     "text": [
      "The highest amount of electricity use in a continuous 4 hour period happened in\u001b[1m July and is\u001b[1m 17.237 kwh\u001b[0m\n"
     ]
    }
   ],
   "source": [
    "#\n",
    "print('The highest amount of electricity use in a continuous 4 hour period happened in' + color.BOLD + ' July and is' + color.BOLD + '', round(max(sum_4_usages), 3), 'kwh' + color.END)"
   ]
  },
  {
   "cell_type": "markdown",
   "id": "03884548",
   "metadata": {},
   "source": [
    "<H3>Question 5\n",
    "<H6>Based on your historic electricity usage, what would your annual cost of electricitybe under the \"Monthly Flex\" contract?"
   ]
  },
  {
   "cell_type": "code",
   "execution_count": 37,
   "id": "7b002265",
   "metadata": {},
   "outputs": [
    {
     "name": "stdout",
     "output_type": "stream",
     "text": [
      "Annual cost at a\u001b[1m Monthly Flex \u001b[0mof electricity: \u001b[1m 1421.20577 $\n"
     ]
    }
   ],
   "source": [
    "print('Annual cost at a' + color.BOLD + ' Monthly Flex ' + color.END + 'of electricity: '+ color.BOLD + '', (df_sum['Price'] * df_sum['Usage']).sum(), '$')"
   ]
  },
  {
   "cell_type": "markdown",
   "id": "4aeb3abc",
   "metadata": {},
   "source": [
    "<H3>Question 6\n",
    "<H6>Based on your historic electricity usage, which of the three contracts would produce the lowest annual cost?"
   ]
  },
  {
   "cell_type": "code",
   "execution_count": 38,
   "id": "9b5ad27c",
   "metadata": {},
   "outputs": [
    {
     "name": "stdout",
     "output_type": "stream",
     "text": [
      "Annual cost at\u001b[1m a Fixed Price \u001b[0mof electricity: \u001b[1m 1438.10394 $\u001b[0m\n",
      "Annual cost at a\u001b[1m Monthly Flex \u001b[0mof electricity: \u001b[1m 1421.20577 $\u001b[0m\n",
      "Annual cost at a \u001b[1mHourly Flex \u001b[0mof electricity: \u001b[1m 1394.30014 $\u001b[0m\n",
      "Answer is\u001b[1m Hourly Flex\u001b[0m\n"
     ]
    }
   ],
   "source": [
    "print('Annual cost at' + color.BOLD + ' a Fixed Price ' + color.END + 'of electricity: ' + color.BOLD + '',df.groupby(pd.PeriodIndex(df['Date'], freq = \"M\")).sum().sum()[0] * 0.21, '$' + color.END)\n",
    "print('Annual cost at a' +color.BOLD + ' Monthly Flex '  + color.END +'of electricity: ' + color.BOLD + '',(df_sum['Price'] * df_sum['Usage']).sum(),'$' + color.END)\n",
    "print('Annual cost at a ' + color.BOLD + 'Hourly Flex ' + color.END + 'of electricity: ' + color.BOLD + '', round((df_sum_hour['Usage'] * df_sum_hour['Price']).sum(),5),'$' + color.END)\n",
    "print('Answer is' + color.BOLD + ' Hourly Flex' + color.END)"
   ]
  },
  {
   "cell_type": "code",
   "execution_count": null,
   "id": "56ab5292",
   "metadata": {},
   "outputs": [],
   "source": []
  }
 ],
 "metadata": {
  "kernelspec": {
   "display_name": "Python 3 (ipykernel)",
   "language": "python",
   "name": "python3"
  },
  "language_info": {
   "codemirror_mode": {
    "name": "ipython",
    "version": 3
   },
   "file_extension": ".py",
   "mimetype": "text/x-python",
   "name": "python",
   "nbconvert_exporter": "python",
   "pygments_lexer": "ipython3",
   "version": "3.9.13"
  }
 },
 "nbformat": 4,
 "nbformat_minor": 5
}
